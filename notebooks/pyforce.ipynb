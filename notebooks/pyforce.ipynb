{
 "cells": [
  {
   "cell_type": "code",
   "execution_count": 21,
   "id": "801e204b",
   "metadata": {},
   "outputs": [],
   "source": [
    "from dotenv import dotenv_values\n",
    "from simple_salesforce import Salesforce\n",
    "import pandas as pd"
   ]
  },
  {
   "cell_type": "code",
   "execution_count": 22,
   "id": "efdacc65",
   "metadata": {},
   "outputs": [],
   "source": [
    "config = dotenv_values(\"../.env\")"
   ]
  },
  {
   "cell_type": "code",
   "execution_count": 23,
   "id": "ac69f427",
   "metadata": {},
   "outputs": [],
   "source": [
    "sf = Salesforce(username=config[\"USERNAME\"], password=config[\"PASSWORD\"], security_token=config[\"TOKEN\"])"
   ]
  },
  {
   "cell_type": "code",
   "execution_count": 24,
   "id": "16b9dc61",
   "metadata": {},
   "outputs": [],
   "source": [
    "data = sf.query('SELECT Id, FirstName, LastName, Phone, Email FROM Lead')"
   ]
  },
  {
   "cell_type": "code",
   "execution_count": 25,
   "id": "22e931b5",
   "metadata": {},
   "outputs": [],
   "source": [
    "df = pd.DataFrame(data['records']).drop(['attributes'],axis=1)"
   ]
  },
  {
   "cell_type": "code",
   "execution_count": 26,
   "id": "ab8b2525",
   "metadata": {},
   "outputs": [
    {
     "data": {
      "text/html": [
       "<div>\n",
       "<style scoped>\n",
       "    .dataframe tbody tr th:only-of-type {\n",
       "        vertical-align: middle;\n",
       "    }\n",
       "\n",
       "    .dataframe tbody tr th {\n",
       "        vertical-align: top;\n",
       "    }\n",
       "\n",
       "    .dataframe thead th {\n",
       "        text-align: right;\n",
       "    }\n",
       "</style>\n",
       "<table border=\"1\" class=\"dataframe\">\n",
       "  <thead>\n",
       "    <tr style=\"text-align: right;\">\n",
       "      <th></th>\n",
       "      <th>Id</th>\n",
       "      <th>FirstName</th>\n",
       "      <th>LastName</th>\n",
       "      <th>Phone</th>\n",
       "      <th>Email</th>\n",
       "    </tr>\n",
       "  </thead>\n",
       "  <tbody>\n",
       "    <tr>\n",
       "      <th>0</th>\n",
       "      <td>00Q5f000008sihTEAQ</td>\n",
       "      <td>Dedie</td>\n",
       "      <td>Trevan</td>\n",
       "      <td>5554755862</td>\n",
       "      <td>trevandediesanfordinc@example.com</td>\n",
       "    </tr>\n",
       "    <tr>\n",
       "      <th>1</th>\n",
       "      <td>00Q5f000008sihMEAQ</td>\n",
       "      <td>Sheena</td>\n",
       "      <td>Clutton</td>\n",
       "      <td>5553358892</td>\n",
       "      <td>cluttonsheenaolsondooley@example.com</td>\n",
       "    </tr>\n",
       "    <tr>\n",
       "      <th>2</th>\n",
       "      <td>00Q5f000008sihNEAQ</td>\n",
       "      <td>Allison</td>\n",
       "      <td>Cicco</td>\n",
       "      <td>5553513768</td>\n",
       "      <td>ciccoallisonvolkmangreen@example.com</td>\n",
       "    </tr>\n",
       "    <tr>\n",
       "      <th>3</th>\n",
       "      <td>00Q5f000008sihOEAQ</td>\n",
       "      <td>Wright</td>\n",
       "      <td>Paulo</td>\n",
       "      <td>5556655507</td>\n",
       "      <td>paulowrightgerlachmorissette@example.com</td>\n",
       "    </tr>\n",
       "    <tr>\n",
       "      <th>4</th>\n",
       "      <td>00Q5f000008sihPEAQ</td>\n",
       "      <td>Marysa</td>\n",
       "      <td>Balam</td>\n",
       "      <td>5552021506</td>\n",
       "      <td>balammarysalockmanhills@example.com</td>\n",
       "    </tr>\n",
       "    <tr>\n",
       "      <th>...</th>\n",
       "      <td>...</td>\n",
       "      <td>...</td>\n",
       "      <td>...</td>\n",
       "      <td>...</td>\n",
       "      <td>...</td>\n",
       "    </tr>\n",
       "    <tr>\n",
       "      <th>1117</th>\n",
       "      <td>00Q5f000008v770EAA</td>\n",
       "      <td>Bertha</td>\n",
       "      <td>Boxer</td>\n",
       "      <td>(850) 644-4200</td>\n",
       "      <td>bertha@fcof.net</td>\n",
       "    </tr>\n",
       "    <tr>\n",
       "      <th>1118</th>\n",
       "      <td>00Q5f000008v771EAA</td>\n",
       "      <td>Phyllis</td>\n",
       "      <td>Cotton</td>\n",
       "      <td>(703) 757-1000</td>\n",
       "      <td>pcotton@abbottins.net</td>\n",
       "    </tr>\n",
       "    <tr>\n",
       "      <th>1119</th>\n",
       "      <td>00Q5f000008v772EAA</td>\n",
       "      <td>Jeff</td>\n",
       "      <td>Glimpse</td>\n",
       "      <td>886-2-25474189</td>\n",
       "      <td>jeffg@jackson.com</td>\n",
       "    </tr>\n",
       "    <tr>\n",
       "      <th>1120</th>\n",
       "      <td>00Q5f000008v773EAA</td>\n",
       "      <td>Mike</td>\n",
       "      <td>Braund</td>\n",
       "      <td>(410) 381-2334</td>\n",
       "      <td>likeb@metro.com</td>\n",
       "    </tr>\n",
       "    <tr>\n",
       "      <th>1121</th>\n",
       "      <td>00Q5f000008v774EAA</td>\n",
       "      <td>Patricia</td>\n",
       "      <td>Feager</td>\n",
       "      <td>(336) 777-1970</td>\n",
       "      <td>patricia_feager@is.com</td>\n",
       "    </tr>\n",
       "  </tbody>\n",
       "</table>\n",
       "<p>1122 rows × 5 columns</p>\n",
       "</div>"
      ],
      "text/plain": [
       "                      Id FirstName LastName           Phone  \\\n",
       "0     00Q5f000008sihTEAQ     Dedie   Trevan      5554755862   \n",
       "1     00Q5f000008sihMEAQ    Sheena  Clutton      5553358892   \n",
       "2     00Q5f000008sihNEAQ   Allison    Cicco      5553513768   \n",
       "3     00Q5f000008sihOEAQ    Wright    Paulo      5556655507   \n",
       "4     00Q5f000008sihPEAQ    Marysa    Balam      5552021506   \n",
       "...                  ...       ...      ...             ...   \n",
       "1117  00Q5f000008v770EAA    Bertha    Boxer  (850) 644-4200   \n",
       "1118  00Q5f000008v771EAA   Phyllis   Cotton  (703) 757-1000   \n",
       "1119  00Q5f000008v772EAA      Jeff  Glimpse  886-2-25474189   \n",
       "1120  00Q5f000008v773EAA      Mike   Braund  (410) 381-2334   \n",
       "1121  00Q5f000008v774EAA  Patricia   Feager  (336) 777-1970   \n",
       "\n",
       "                                         Email  \n",
       "0            trevandediesanfordinc@example.com  \n",
       "1         cluttonsheenaolsondooley@example.com  \n",
       "2         ciccoallisonvolkmangreen@example.com  \n",
       "3     paulowrightgerlachmorissette@example.com  \n",
       "4          balammarysalockmanhills@example.com  \n",
       "...                                        ...  \n",
       "1117                           bertha@fcof.net  \n",
       "1118                     pcotton@abbottins.net  \n",
       "1119                         jeffg@jackson.com  \n",
       "1120                           likeb@metro.com  \n",
       "1121                    patricia_feager@is.com  \n",
       "\n",
       "[1122 rows x 5 columns]"
      ]
     },
     "execution_count": 26,
     "metadata": {},
     "output_type": "execute_result"
    }
   ],
   "source": [
    "df"
   ]
  },
  {
   "cell_type": "code",
   "execution_count": 27,
   "id": "e12cb08e",
   "metadata": {},
   "outputs": [
    {
     "data": {
      "text/plain": [
       "Id                          00Q5f000008sihTEAQ\n",
       "FirstName                                Dedie\n",
       "LastName                                Trevan\n",
       "Phone                               5554755862\n",
       "Email        trevandediesanfordinc@example.com\n",
       "Name: 0, dtype: object"
      ]
     },
     "execution_count": 27,
     "metadata": {},
     "output_type": "execute_result"
    }
   ],
   "source": [
    "df.iloc[0]"
   ]
  },
  {
   "cell_type": "code",
   "execution_count": 28,
   "id": "3683c06c",
   "metadata": {},
   "outputs": [
    {
     "data": {
      "text/plain": [
       "0           Trevan\n",
       "10    Schuchmacher\n",
       "Name: LastName, dtype: object"
      ]
     },
     "execution_count": 28,
     "metadata": {},
     "output_type": "execute_result"
    }
   ],
   "source": [
    "df.iloc[[0,10], 2]"
   ]
  },
  {
   "cell_type": "code",
   "execution_count": 29,
   "id": "2679204e",
   "metadata": {},
   "outputs": [
    {
     "data": {
      "text/plain": [
       "0           Trevan\n",
       "10    Schuchmacher\n",
       "Name: LastName, dtype: object"
      ]
     },
     "execution_count": 29,
     "metadata": {},
     "output_type": "execute_result"
    }
   ],
   "source": [
    "df.loc[[0, 10], 'LastName']"
   ]
  },
  {
   "cell_type": "code",
   "execution_count": 30,
   "id": "05cf4860",
   "metadata": {},
   "outputs": [
    {
     "data": {
      "text/html": [
       "<div>\n",
       "<style scoped>\n",
       "    .dataframe tbody tr th:only-of-type {\n",
       "        vertical-align: middle;\n",
       "    }\n",
       "\n",
       "    .dataframe tbody tr th {\n",
       "        vertical-align: top;\n",
       "    }\n",
       "\n",
       "    .dataframe thead th {\n",
       "        text-align: right;\n",
       "    }\n",
       "</style>\n",
       "<table border=\"1\" class=\"dataframe\">\n",
       "  <thead>\n",
       "    <tr style=\"text-align: right;\">\n",
       "      <th></th>\n",
       "      <th>LastName</th>\n",
       "      <th>Email</th>\n",
       "    </tr>\n",
       "  </thead>\n",
       "  <tbody>\n",
       "    <tr>\n",
       "      <th>0</th>\n",
       "      <td>Trevan</td>\n",
       "      <td>trevandediesanfordinc@example.com</td>\n",
       "    </tr>\n",
       "    <tr>\n",
       "      <th>10</th>\n",
       "      <td>Schuchmacher</td>\n",
       "      <td>schuchmacherrenelleschinnertowne@example.com</td>\n",
       "    </tr>\n",
       "  </tbody>\n",
       "</table>\n",
       "</div>"
      ],
      "text/plain": [
       "        LastName                                         Email\n",
       "0         Trevan             trevandediesanfordinc@example.com\n",
       "10  Schuchmacher  schuchmacherrenelleschinnertowne@example.com"
      ]
     },
     "execution_count": 30,
     "metadata": {},
     "output_type": "execute_result"
    }
   ],
   "source": [
    "df.loc[[0, 10], ['LastName', 'Email']]"
   ]
  },
  {
   "cell_type": "code",
   "execution_count": 31,
   "id": "27ad3f4c",
   "metadata": {},
   "outputs": [
    {
     "data": {
      "text/plain": [
       "(1122, 5)"
      ]
     },
     "execution_count": 31,
     "metadata": {},
     "output_type": "execute_result"
    }
   ],
   "source": [
    "df.shape"
   ]
  },
  {
   "cell_type": "code",
   "execution_count": 32,
   "id": "80d79873",
   "metadata": {},
   "outputs": [
    {
     "data": {
      "text/plain": [
       "0              trevandediesanfordinc@example.com\n",
       "1           cluttonsheenaolsondooley@example.com\n",
       "2           ciccoallisonvolkmangreen@example.com\n",
       "3       paulowrightgerlachmorissette@example.com\n",
       "4            balammarysalockmanhills@example.com\n",
       "                          ...                   \n",
       "1117                             bertha@fcof.net\n",
       "1118                       pcotton@abbottins.net\n",
       "1119                           jeffg@jackson.com\n",
       "1120                             likeb@metro.com\n",
       "1121                      patricia_feager@is.com\n",
       "Name: Email, Length: 1122, dtype: object"
      ]
     },
     "execution_count": 32,
     "metadata": {},
     "output_type": "execute_result"
    }
   ],
   "source": [
    "df['Email']"
   ]
  },
  {
   "cell_type": "code",
   "execution_count": 33,
   "id": "8f8ea751",
   "metadata": {},
   "outputs": [
    {
     "data": {
      "text/plain": [
       "Zaria       4\n",
       "Clemmy      4\n",
       "Annabal     3\n",
       "Myrah       3\n",
       "Ruthy       3\n",
       "           ..\n",
       "Delly       1\n",
       "Wynne       1\n",
       "Mortie      1\n",
       "Cammie      1\n",
       "Patricia    1\n",
       "Name: FirstName, Length: 992, dtype: int64"
      ]
     },
     "execution_count": 33,
     "metadata": {},
     "output_type": "execute_result"
    }
   ],
   "source": [
    "df['FirstName'].value_counts()"
   ]
  },
  {
   "cell_type": "code",
   "execution_count": 35,
   "id": "a36327d2",
   "metadata": {},
   "outputs": [
    {
     "data": {
      "text/plain": [
       "trevandediesanfordinc@example.com                     1\n",
       "pedronaynmarquardtgroup@example.com                   1\n",
       "toplisonidahodkiewiczandsons@example.com              1\n",
       "litsterwalliskubinc@example.com                       1\n",
       "piontertheodorquigleyluettgenandhansen@example.com    1\n",
       "                                                     ..\n",
       "schonfelddorellewymanharber@example.com               1\n",
       "rivelinshelaghgorczanysauer@example.com               1\n",
       "calderbankfreddieoberbrunnerandsons@example.com       1\n",
       "baffordconniraynortillman@example.com                 1\n",
       "patricia_feager@is.com                                1\n",
       "Name: Email, Length: 1122, dtype: int64"
      ]
     },
     "execution_count": 35,
     "metadata": {},
     "output_type": "execute_result"
    }
   ],
   "source": [
    "df['Email'].value_counts()"
   ]
  },
  {
   "cell_type": "code",
   "execution_count": 36,
   "id": "07e06e57",
   "metadata": {},
   "outputs": [
    {
     "data": {
      "text/plain": [
       "0       00Q5f000008sihTEAQ\n",
       "1       00Q5f000008sihMEAQ\n",
       "2       00Q5f000008sihNEAQ\n",
       "3       00Q5f000008sihOEAQ\n",
       "4       00Q5f000008sihPEAQ\n",
       "               ...        \n",
       "1117    00Q5f000008v770EAA\n",
       "1118    00Q5f000008v771EAA\n",
       "1119    00Q5f000008v772EAA\n",
       "1120    00Q5f000008v773EAA\n",
       "1121    00Q5f000008v774EAA\n",
       "Name: Id, Length: 1122, dtype: object"
      ]
     },
     "execution_count": 36,
     "metadata": {},
     "output_type": "execute_result"
    }
   ],
   "source": [
    "df['Id']"
   ]
  },
  {
   "cell_type": "code",
   "execution_count": 37,
   "id": "8ee82806",
   "metadata": {},
   "outputs": [
    {
     "data": {
      "text/html": [
       "<div>\n",
       "<style scoped>\n",
       "    .dataframe tbody tr th:only-of-type {\n",
       "        vertical-align: middle;\n",
       "    }\n",
       "\n",
       "    .dataframe tbody tr th {\n",
       "        vertical-align: top;\n",
       "    }\n",
       "\n",
       "    .dataframe thead th {\n",
       "        text-align: right;\n",
       "    }\n",
       "</style>\n",
       "<table border=\"1\" class=\"dataframe\">\n",
       "  <thead>\n",
       "    <tr style=\"text-align: right;\">\n",
       "      <th></th>\n",
       "      <th>FirstName</th>\n",
       "      <th>LastName</th>\n",
       "      <th>Phone</th>\n",
       "      <th>Email</th>\n",
       "    </tr>\n",
       "    <tr>\n",
       "      <th>Id</th>\n",
       "      <th></th>\n",
       "      <th></th>\n",
       "      <th></th>\n",
       "      <th></th>\n",
       "    </tr>\n",
       "  </thead>\n",
       "  <tbody>\n",
       "    <tr>\n",
       "      <th>00Q5f000008sihTEAQ</th>\n",
       "      <td>Dedie</td>\n",
       "      <td>Trevan</td>\n",
       "      <td>5554755862</td>\n",
       "      <td>trevandediesanfordinc@example.com</td>\n",
       "    </tr>\n",
       "    <tr>\n",
       "      <th>00Q5f000008sihMEAQ</th>\n",
       "      <td>Sheena</td>\n",
       "      <td>Clutton</td>\n",
       "      <td>5553358892</td>\n",
       "      <td>cluttonsheenaolsondooley@example.com</td>\n",
       "    </tr>\n",
       "    <tr>\n",
       "      <th>00Q5f000008sihNEAQ</th>\n",
       "      <td>Allison</td>\n",
       "      <td>Cicco</td>\n",
       "      <td>5553513768</td>\n",
       "      <td>ciccoallisonvolkmangreen@example.com</td>\n",
       "    </tr>\n",
       "    <tr>\n",
       "      <th>00Q5f000008sihOEAQ</th>\n",
       "      <td>Wright</td>\n",
       "      <td>Paulo</td>\n",
       "      <td>5556655507</td>\n",
       "      <td>paulowrightgerlachmorissette@example.com</td>\n",
       "    </tr>\n",
       "    <tr>\n",
       "      <th>00Q5f000008sihPEAQ</th>\n",
       "      <td>Marysa</td>\n",
       "      <td>Balam</td>\n",
       "      <td>5552021506</td>\n",
       "      <td>balammarysalockmanhills@example.com</td>\n",
       "    </tr>\n",
       "    <tr>\n",
       "      <th>...</th>\n",
       "      <td>...</td>\n",
       "      <td>...</td>\n",
       "      <td>...</td>\n",
       "      <td>...</td>\n",
       "    </tr>\n",
       "    <tr>\n",
       "      <th>00Q5f000008v770EAA</th>\n",
       "      <td>Bertha</td>\n",
       "      <td>Boxer</td>\n",
       "      <td>(850) 644-4200</td>\n",
       "      <td>bertha@fcof.net</td>\n",
       "    </tr>\n",
       "    <tr>\n",
       "      <th>00Q5f000008v771EAA</th>\n",
       "      <td>Phyllis</td>\n",
       "      <td>Cotton</td>\n",
       "      <td>(703) 757-1000</td>\n",
       "      <td>pcotton@abbottins.net</td>\n",
       "    </tr>\n",
       "    <tr>\n",
       "      <th>00Q5f000008v772EAA</th>\n",
       "      <td>Jeff</td>\n",
       "      <td>Glimpse</td>\n",
       "      <td>886-2-25474189</td>\n",
       "      <td>jeffg@jackson.com</td>\n",
       "    </tr>\n",
       "    <tr>\n",
       "      <th>00Q5f000008v773EAA</th>\n",
       "      <td>Mike</td>\n",
       "      <td>Braund</td>\n",
       "      <td>(410) 381-2334</td>\n",
       "      <td>likeb@metro.com</td>\n",
       "    </tr>\n",
       "    <tr>\n",
       "      <th>00Q5f000008v774EAA</th>\n",
       "      <td>Patricia</td>\n",
       "      <td>Feager</td>\n",
       "      <td>(336) 777-1970</td>\n",
       "      <td>patricia_feager@is.com</td>\n",
       "    </tr>\n",
       "  </tbody>\n",
       "</table>\n",
       "<p>1122 rows × 4 columns</p>\n",
       "</div>"
      ],
      "text/plain": [
       "                   FirstName LastName           Phone  \\\n",
       "Id                                                      \n",
       "00Q5f000008sihTEAQ     Dedie   Trevan      5554755862   \n",
       "00Q5f000008sihMEAQ    Sheena  Clutton      5553358892   \n",
       "00Q5f000008sihNEAQ   Allison    Cicco      5553513768   \n",
       "00Q5f000008sihOEAQ    Wright    Paulo      5556655507   \n",
       "00Q5f000008sihPEAQ    Marysa    Balam      5552021506   \n",
       "...                      ...      ...             ...   \n",
       "00Q5f000008v770EAA    Bertha    Boxer  (850) 644-4200   \n",
       "00Q5f000008v771EAA   Phyllis   Cotton  (703) 757-1000   \n",
       "00Q5f000008v772EAA      Jeff  Glimpse  886-2-25474189   \n",
       "00Q5f000008v773EAA      Mike   Braund  (410) 381-2334   \n",
       "00Q5f000008v774EAA  Patricia   Feager  (336) 777-1970   \n",
       "\n",
       "                                                       Email  \n",
       "Id                                                            \n",
       "00Q5f000008sihTEAQ         trevandediesanfordinc@example.com  \n",
       "00Q5f000008sihMEAQ      cluttonsheenaolsondooley@example.com  \n",
       "00Q5f000008sihNEAQ      ciccoallisonvolkmangreen@example.com  \n",
       "00Q5f000008sihOEAQ  paulowrightgerlachmorissette@example.com  \n",
       "00Q5f000008sihPEAQ       balammarysalockmanhills@example.com  \n",
       "...                                                      ...  \n",
       "00Q5f000008v770EAA                           bertha@fcof.net  \n",
       "00Q5f000008v771EAA                     pcotton@abbottins.net  \n",
       "00Q5f000008v772EAA                         jeffg@jackson.com  \n",
       "00Q5f000008v773EAA                           likeb@metro.com  \n",
       "00Q5f000008v774EAA                    patricia_feager@is.com  \n",
       "\n",
       "[1122 rows x 4 columns]"
      ]
     },
     "execution_count": 37,
     "metadata": {},
     "output_type": "execute_result"
    }
   ],
   "source": [
    "df.set_index('Id')"
   ]
  },
  {
   "cell_type": "code",
   "execution_count": 38,
   "id": "6b288720",
   "metadata": {},
   "outputs": [],
   "source": [
    "df.set_index('Id', inplace=True)"
   ]
  },
  {
   "cell_type": "code",
   "execution_count": 39,
   "id": "f66b1afb",
   "metadata": {},
   "outputs": [
    {
     "data": {
      "text/html": [
       "<div>\n",
       "<style scoped>\n",
       "    .dataframe tbody tr th:only-of-type {\n",
       "        vertical-align: middle;\n",
       "    }\n",
       "\n",
       "    .dataframe tbody tr th {\n",
       "        vertical-align: top;\n",
       "    }\n",
       "\n",
       "    .dataframe thead th {\n",
       "        text-align: right;\n",
       "    }\n",
       "</style>\n",
       "<table border=\"1\" class=\"dataframe\">\n",
       "  <thead>\n",
       "    <tr style=\"text-align: right;\">\n",
       "      <th></th>\n",
       "      <th>FirstName</th>\n",
       "      <th>LastName</th>\n",
       "      <th>Phone</th>\n",
       "      <th>Email</th>\n",
       "    </tr>\n",
       "    <tr>\n",
       "      <th>Id</th>\n",
       "      <th></th>\n",
       "      <th></th>\n",
       "      <th></th>\n",
       "      <th></th>\n",
       "    </tr>\n",
       "  </thead>\n",
       "  <tbody>\n",
       "    <tr>\n",
       "      <th>00Q5f000008sihTEAQ</th>\n",
       "      <td>Dedie</td>\n",
       "      <td>Trevan</td>\n",
       "      <td>5554755862</td>\n",
       "      <td>trevandediesanfordinc@example.com</td>\n",
       "    </tr>\n",
       "    <tr>\n",
       "      <th>00Q5f000008sihMEAQ</th>\n",
       "      <td>Sheena</td>\n",
       "      <td>Clutton</td>\n",
       "      <td>5553358892</td>\n",
       "      <td>cluttonsheenaolsondooley@example.com</td>\n",
       "    </tr>\n",
       "    <tr>\n",
       "      <th>00Q5f000008sihNEAQ</th>\n",
       "      <td>Allison</td>\n",
       "      <td>Cicco</td>\n",
       "      <td>5553513768</td>\n",
       "      <td>ciccoallisonvolkmangreen@example.com</td>\n",
       "    </tr>\n",
       "    <tr>\n",
       "      <th>00Q5f000008sihOEAQ</th>\n",
       "      <td>Wright</td>\n",
       "      <td>Paulo</td>\n",
       "      <td>5556655507</td>\n",
       "      <td>paulowrightgerlachmorissette@example.com</td>\n",
       "    </tr>\n",
       "    <tr>\n",
       "      <th>00Q5f000008sihPEAQ</th>\n",
       "      <td>Marysa</td>\n",
       "      <td>Balam</td>\n",
       "      <td>5552021506</td>\n",
       "      <td>balammarysalockmanhills@example.com</td>\n",
       "    </tr>\n",
       "    <tr>\n",
       "      <th>...</th>\n",
       "      <td>...</td>\n",
       "      <td>...</td>\n",
       "      <td>...</td>\n",
       "      <td>...</td>\n",
       "    </tr>\n",
       "    <tr>\n",
       "      <th>00Q5f000008v770EAA</th>\n",
       "      <td>Bertha</td>\n",
       "      <td>Boxer</td>\n",
       "      <td>(850) 644-4200</td>\n",
       "      <td>bertha@fcof.net</td>\n",
       "    </tr>\n",
       "    <tr>\n",
       "      <th>00Q5f000008v771EAA</th>\n",
       "      <td>Phyllis</td>\n",
       "      <td>Cotton</td>\n",
       "      <td>(703) 757-1000</td>\n",
       "      <td>pcotton@abbottins.net</td>\n",
       "    </tr>\n",
       "    <tr>\n",
       "      <th>00Q5f000008v772EAA</th>\n",
       "      <td>Jeff</td>\n",
       "      <td>Glimpse</td>\n",
       "      <td>886-2-25474189</td>\n",
       "      <td>jeffg@jackson.com</td>\n",
       "    </tr>\n",
       "    <tr>\n",
       "      <th>00Q5f000008v773EAA</th>\n",
       "      <td>Mike</td>\n",
       "      <td>Braund</td>\n",
       "      <td>(410) 381-2334</td>\n",
       "      <td>likeb@metro.com</td>\n",
       "    </tr>\n",
       "    <tr>\n",
       "      <th>00Q5f000008v774EAA</th>\n",
       "      <td>Patricia</td>\n",
       "      <td>Feager</td>\n",
       "      <td>(336) 777-1970</td>\n",
       "      <td>patricia_feager@is.com</td>\n",
       "    </tr>\n",
       "  </tbody>\n",
       "</table>\n",
       "<p>1122 rows × 4 columns</p>\n",
       "</div>"
      ],
      "text/plain": [
       "                   FirstName LastName           Phone  \\\n",
       "Id                                                      \n",
       "00Q5f000008sihTEAQ     Dedie   Trevan      5554755862   \n",
       "00Q5f000008sihMEAQ    Sheena  Clutton      5553358892   \n",
       "00Q5f000008sihNEAQ   Allison    Cicco      5553513768   \n",
       "00Q5f000008sihOEAQ    Wright    Paulo      5556655507   \n",
       "00Q5f000008sihPEAQ    Marysa    Balam      5552021506   \n",
       "...                      ...      ...             ...   \n",
       "00Q5f000008v770EAA    Bertha    Boxer  (850) 644-4200   \n",
       "00Q5f000008v771EAA   Phyllis   Cotton  (703) 757-1000   \n",
       "00Q5f000008v772EAA      Jeff  Glimpse  886-2-25474189   \n",
       "00Q5f000008v773EAA      Mike   Braund  (410) 381-2334   \n",
       "00Q5f000008v774EAA  Patricia   Feager  (336) 777-1970   \n",
       "\n",
       "                                                       Email  \n",
       "Id                                                            \n",
       "00Q5f000008sihTEAQ         trevandediesanfordinc@example.com  \n",
       "00Q5f000008sihMEAQ      cluttonsheenaolsondooley@example.com  \n",
       "00Q5f000008sihNEAQ      ciccoallisonvolkmangreen@example.com  \n",
       "00Q5f000008sihOEAQ  paulowrightgerlachmorissette@example.com  \n",
       "00Q5f000008sihPEAQ       balammarysalockmanhills@example.com  \n",
       "...                                                      ...  \n",
       "00Q5f000008v770EAA                           bertha@fcof.net  \n",
       "00Q5f000008v771EAA                     pcotton@abbottins.net  \n",
       "00Q5f000008v772EAA                         jeffg@jackson.com  \n",
       "00Q5f000008v773EAA                           likeb@metro.com  \n",
       "00Q5f000008v774EAA                    patricia_feager@is.com  \n",
       "\n",
       "[1122 rows x 4 columns]"
      ]
     },
     "execution_count": 39,
     "metadata": {},
     "output_type": "execute_result"
    }
   ],
   "source": [
    "df"
   ]
  },
  {
   "cell_type": "code",
   "execution_count": null,
   "id": "95bf95a7",
   "metadata": {},
   "outputs": [],
   "source": []
  }
 ],
 "metadata": {
  "kernelspec": {
   "display_name": "Python 3 (ipykernel)",
   "language": "python",
   "name": "python3"
  },
  "language_info": {
   "codemirror_mode": {
    "name": "ipython",
    "version": 3
   },
   "file_extension": ".py",
   "mimetype": "text/x-python",
   "name": "python",
   "nbconvert_exporter": "python",
   "pygments_lexer": "ipython3",
   "version": "3.9.7"
  }
 },
 "nbformat": 4,
 "nbformat_minor": 5
}
