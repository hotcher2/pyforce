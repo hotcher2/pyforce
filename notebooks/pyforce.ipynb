{
 "cells": [
  {
   "cell_type": "code",
   "execution_count": 2,
   "id": "801e204b",
   "metadata": {},
   "outputs": [],
   "source": [
    "from dotenv import dotenv_values\n",
    "from simple_salesforce import Salesforce\n",
    "import pandas as pd"
   ]
  },
  {
   "cell_type": "code",
   "execution_count": 3,
   "id": "efdacc65",
   "metadata": {},
   "outputs": [],
   "source": [
    "config = dotenv_values(\"../.env\")"
   ]
  },
  {
   "cell_type": "code",
   "execution_count": 4,
   "id": "ac69f427",
   "metadata": {},
   "outputs": [
    {
     "ename": "KeyError",
     "evalue": "'TOKEN'",
     "output_type": "error",
     "traceback": [
      "\u001b[0;31m---------------------------------------------------------------------------\u001b[0m",
      "\u001b[0;31mKeyError\u001b[0m                                  Traceback (most recent call last)",
      "Input \u001b[0;32mIn [4]\u001b[0m, in \u001b[0;36m<module>\u001b[0;34m\u001b[0m\n\u001b[0;32m----> 1\u001b[0m sf \u001b[38;5;241m=\u001b[39m Salesforce(username\u001b[38;5;241m=\u001b[39mconfig[\u001b[38;5;124m\"\u001b[39m\u001b[38;5;124mUSERNAME\u001b[39m\u001b[38;5;124m\"\u001b[39m], password\u001b[38;5;241m=\u001b[39mconfig[\u001b[38;5;124m\"\u001b[39m\u001b[38;5;124mPASSWORD\u001b[39m\u001b[38;5;124m\"\u001b[39m], security_token\u001b[38;5;241m=\u001b[39m\u001b[43mconfig\u001b[49m\u001b[43m[\u001b[49m\u001b[38;5;124;43m\"\u001b[39;49m\u001b[38;5;124;43mTOKEN\u001b[39;49m\u001b[38;5;124;43m\"\u001b[39;49m\u001b[43m]\u001b[49m)\n",
      "\u001b[0;31mKeyError\u001b[0m: 'TOKEN'"
     ]
    }
   ],
   "source": [
    "sf = Salesforce(username=config[\"USERNAME\"], password=config[\"PASSWORD\"], security_token=config[\"TOKEN\"])"
   ]
  },
  {
   "cell_type": "code",
   "execution_count": null,
   "id": "16b9dc61",
   "metadata": {},
   "outputs": [],
   "source": [
    "data = sf.query('SELECT Id, FirstName, LastName, Phone, Email FROM Lead')"
   ]
  },
  {
   "cell_type": "code",
   "execution_count": null,
   "id": "22e931b5",
   "metadata": {},
   "outputs": [],
   "source": [
    "df = pd.DataFrame(data['records']).drop(['attributes'],axis=1)"
   ]
  },
  {
   "cell_type": "code",
   "execution_count": null,
   "id": "ab8b2525",
   "metadata": {},
   "outputs": [],
   "source": [
    "df"
   ]
  },
  {
   "cell_type": "code",
   "execution_count": null,
   "id": "e12cb08e",
   "metadata": {},
   "outputs": [],
   "source": [
    "df.iloc[0]"
   ]
  },
  {
   "cell_type": "code",
   "execution_count": null,
   "id": "3683c06c",
   "metadata": {},
   "outputs": [],
   "source": [
    "df.iloc[[0,10], 2]"
   ]
  },
  {
   "cell_type": "code",
   "execution_count": null,
   "id": "2679204e",
   "metadata": {},
   "outputs": [],
   "source": [
    "df.loc[[0, 10], 'LastName']"
   ]
  },
  {
   "cell_type": "code",
   "execution_count": null,
   "id": "05cf4860",
   "metadata": {},
   "outputs": [],
   "source": [
    "df.loc[[0, 10], ['LastName', 'Email']]"
   ]
  },
  {
   "cell_type": "code",
   "execution_count": null,
   "id": "27ad3f4c",
   "metadata": {},
   "outputs": [],
   "source": [
    "df.shape"
   ]
  },
  {
   "cell_type": "code",
   "execution_count": null,
   "id": "80d79873",
   "metadata": {},
   "outputs": [],
   "source": [
    "df['Email']"
   ]
  },
  {
   "cell_type": "code",
   "execution_count": null,
   "id": "8f8ea751",
   "metadata": {},
   "outputs": [],
   "source": [
    "df['FirstName'].value_counts()"
   ]
  },
  {
   "cell_type": "code",
   "execution_count": null,
   "id": "a36327d2",
   "metadata": {},
   "outputs": [],
   "source": [
    "df['Email'].value_counts()"
   ]
  },
  {
   "cell_type": "code",
   "execution_count": null,
   "id": "07e06e57",
   "metadata": {},
   "outputs": [],
   "source": [
    "df['Id']"
   ]
  },
  {
   "cell_type": "code",
   "execution_count": null,
   "id": "8ee82806",
   "metadata": {},
   "outputs": [],
   "source": [
    "df.set_index('Id')"
   ]
  },
  {
   "cell_type": "code",
   "execution_count": null,
   "id": "6b288720",
   "metadata": {},
   "outputs": [],
   "source": [
    "df.set_index('Id', inplace=True)"
   ]
  },
  {
   "cell_type": "code",
   "execution_count": null,
   "id": "f66b1afb",
   "metadata": {},
   "outputs": [],
   "source": [
    "df"
   ]
  },
  {
   "cell_type": "code",
   "execution_count": null,
   "id": "95bf95a7",
   "metadata": {},
   "outputs": [],
   "source": []
  }
 ],
 "metadata": {
  "kernelspec": {
   "display_name": "Python 3 (ipykernel)",
   "language": "python",
   "name": "python3"
  },
  "language_info": {
   "codemirror_mode": {
    "name": "ipython",
    "version": 3
   },
   "file_extension": ".py",
   "mimetype": "text/x-python",
   "name": "python",
   "nbconvert_exporter": "python",
   "pygments_lexer": "ipython3",
   "version": "3.8.10"
  }
 },
 "nbformat": 4,
 "nbformat_minor": 5
}
